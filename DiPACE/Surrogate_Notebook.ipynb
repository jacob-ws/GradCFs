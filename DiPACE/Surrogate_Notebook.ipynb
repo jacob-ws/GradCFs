{
 "cells": [
  {
   "cell_type": "code",
   "execution_count": 58,
   "metadata": {},
   "outputs": [],
   "source": [
    "import torch\n",
    "import torch.nn as nn\n",
    "import numpy as np\n",
    "import pandas as pd\n",
    "from sklearn.model_selection import train_test_split\n",
    "from sklearn.preprocessing import StandardScaler\n",
    "from sklearn.ensemble import RandomForestClassifier\n",
    "from arc.PyTorch_Model_Architecture import Model\n",
    "import os\n",
    "from data.Data_Interface import DataInterface\n",
    "from model.PyTorch_Gradient_Model_Interface import ModelInterface\n",
    "from cf.PyTorch_CF import GradientCF\n",
    "from eval.PyTorch_Evaluation import Evaluate\n",
    "import warnings\n",
    "pd.set_option('display.max_columns', None)\n",
    "warnings.filterwarnings(\"ignore\")"
   ]
  },
  {
   "cell_type": "code",
   "execution_count": 59,
   "metadata": {},
   "outputs": [],
   "source": [
    "df = pd.read_csv('datasets/heart.csv')"
   ]
  },
  {
   "cell_type": "code",
   "execution_count": 60,
   "metadata": {},
   "outputs": [],
   "source": [
    "X = df.drop(columns=['target'])\n",
    "y = df['target']"
   ]
  },
  {
   "cell_type": "code",
   "execution_count": 61,
   "metadata": {},
   "outputs": [],
   "source": [
    "X = pd.get_dummies(X, columns=['sex', 'cp', 'fbs', 'restecg', 'exang', 'slope', 'ca', 'thal'])"
   ]
  },
  {
   "cell_type": "code",
   "execution_count": 62,
   "metadata": {},
   "outputs": [],
   "source": [
    "X_train, X_test, y_train, y_test = train_test_split(X, y, test_size=0.2, random_state=42)"
   ]
  },
  {
   "cell_type": "code",
   "execution_count": 63,
   "metadata": {},
   "outputs": [],
   "source": [
    "scaler = StandardScaler()\n",
    "X_train = scaler.fit_transform(X_train)\n",
    "X_test = scaler.transform(X_test)\n",
    "X_scaled = scaler.transform(X)"
   ]
  },
  {
   "cell_type": "code",
   "execution_count": 64,
   "metadata": {},
   "outputs": [
    {
     "data": {
      "text/html": [
       "<style>#sk-container-id-4 {\n",
       "  /* Definition of color scheme common for light and dark mode */\n",
       "  --sklearn-color-text: black;\n",
       "  --sklearn-color-line: gray;\n",
       "  /* Definition of color scheme for unfitted estimators */\n",
       "  --sklearn-color-unfitted-level-0: #fff5e6;\n",
       "  --sklearn-color-unfitted-level-1: #f6e4d2;\n",
       "  --sklearn-color-unfitted-level-2: #ffe0b3;\n",
       "  --sklearn-color-unfitted-level-3: chocolate;\n",
       "  /* Definition of color scheme for fitted estimators */\n",
       "  --sklearn-color-fitted-level-0: #f0f8ff;\n",
       "  --sklearn-color-fitted-level-1: #d4ebff;\n",
       "  --sklearn-color-fitted-level-2: #b3dbfd;\n",
       "  --sklearn-color-fitted-level-3: cornflowerblue;\n",
       "\n",
       "  /* Specific color for light theme */\n",
       "  --sklearn-color-text-on-default-background: var(--sg-text-color, var(--theme-code-foreground, var(--jp-content-font-color1, black)));\n",
       "  --sklearn-color-background: var(--sg-background-color, var(--theme-background, var(--jp-layout-color0, white)));\n",
       "  --sklearn-color-border-box: var(--sg-text-color, var(--theme-code-foreground, var(--jp-content-font-color1, black)));\n",
       "  --sklearn-color-icon: #696969;\n",
       "\n",
       "  @media (prefers-color-scheme: dark) {\n",
       "    /* Redefinition of color scheme for dark theme */\n",
       "    --sklearn-color-text-on-default-background: var(--sg-text-color, var(--theme-code-foreground, var(--jp-content-font-color1, white)));\n",
       "    --sklearn-color-background: var(--sg-background-color, var(--theme-background, var(--jp-layout-color0, #111)));\n",
       "    --sklearn-color-border-box: var(--sg-text-color, var(--theme-code-foreground, var(--jp-content-font-color1, white)));\n",
       "    --sklearn-color-icon: #878787;\n",
       "  }\n",
       "}\n",
       "\n",
       "#sk-container-id-4 {\n",
       "  color: var(--sklearn-color-text);\n",
       "}\n",
       "\n",
       "#sk-container-id-4 pre {\n",
       "  padding: 0;\n",
       "}\n",
       "\n",
       "#sk-container-id-4 input.sk-hidden--visually {\n",
       "  border: 0;\n",
       "  clip: rect(1px 1px 1px 1px);\n",
       "  clip: rect(1px, 1px, 1px, 1px);\n",
       "  height: 1px;\n",
       "  margin: -1px;\n",
       "  overflow: hidden;\n",
       "  padding: 0;\n",
       "  position: absolute;\n",
       "  width: 1px;\n",
       "}\n",
       "\n",
       "#sk-container-id-4 div.sk-dashed-wrapped {\n",
       "  border: 1px dashed var(--sklearn-color-line);\n",
       "  margin: 0 0.4em 0.5em 0.4em;\n",
       "  box-sizing: border-box;\n",
       "  padding-bottom: 0.4em;\n",
       "  background-color: var(--sklearn-color-background);\n",
       "}\n",
       "\n",
       "#sk-container-id-4 div.sk-container {\n",
       "  /* jupyter's `normalize.less` sets `[hidden] { display: none; }`\n",
       "     but bootstrap.min.css set `[hidden] { display: none !important; }`\n",
       "     so we also need the `!important` here to be able to override the\n",
       "     default hidden behavior on the sphinx rendered scikit-learn.org.\n",
       "     See: https://github.com/scikit-learn/scikit-learn/issues/21755 */\n",
       "  display: inline-block !important;\n",
       "  position: relative;\n",
       "}\n",
       "\n",
       "#sk-container-id-4 div.sk-text-repr-fallback {\n",
       "  display: none;\n",
       "}\n",
       "\n",
       "div.sk-parallel-item,\n",
       "div.sk-serial,\n",
       "div.sk-item {\n",
       "  /* draw centered vertical line to link estimators */\n",
       "  background-image: linear-gradient(var(--sklearn-color-text-on-default-background), var(--sklearn-color-text-on-default-background));\n",
       "  background-size: 2px 100%;\n",
       "  background-repeat: no-repeat;\n",
       "  background-position: center center;\n",
       "}\n",
       "\n",
       "/* Parallel-specific style estimator block */\n",
       "\n",
       "#sk-container-id-4 div.sk-parallel-item::after {\n",
       "  content: \"\";\n",
       "  width: 100%;\n",
       "  border-bottom: 2px solid var(--sklearn-color-text-on-default-background);\n",
       "  flex-grow: 1;\n",
       "}\n",
       "\n",
       "#sk-container-id-4 div.sk-parallel {\n",
       "  display: flex;\n",
       "  align-items: stretch;\n",
       "  justify-content: center;\n",
       "  background-color: var(--sklearn-color-background);\n",
       "  position: relative;\n",
       "}\n",
       "\n",
       "#sk-container-id-4 div.sk-parallel-item {\n",
       "  display: flex;\n",
       "  flex-direction: column;\n",
       "}\n",
       "\n",
       "#sk-container-id-4 div.sk-parallel-item:first-child::after {\n",
       "  align-self: flex-end;\n",
       "  width: 50%;\n",
       "}\n",
       "\n",
       "#sk-container-id-4 div.sk-parallel-item:last-child::after {\n",
       "  align-self: flex-start;\n",
       "  width: 50%;\n",
       "}\n",
       "\n",
       "#sk-container-id-4 div.sk-parallel-item:only-child::after {\n",
       "  width: 0;\n",
       "}\n",
       "\n",
       "/* Serial-specific style estimator block */\n",
       "\n",
       "#sk-container-id-4 div.sk-serial {\n",
       "  display: flex;\n",
       "  flex-direction: column;\n",
       "  align-items: center;\n",
       "  background-color: var(--sklearn-color-background);\n",
       "  padding-right: 1em;\n",
       "  padding-left: 1em;\n",
       "}\n",
       "\n",
       "\n",
       "/* Toggleable style: style used for estimator/Pipeline/ColumnTransformer box that is\n",
       "clickable and can be expanded/collapsed.\n",
       "- Pipeline and ColumnTransformer use this feature and define the default style\n",
       "- Estimators will overwrite some part of the style using the `sk-estimator` class\n",
       "*/\n",
       "\n",
       "/* Pipeline and ColumnTransformer style (default) */\n",
       "\n",
       "#sk-container-id-4 div.sk-toggleable {\n",
       "  /* Default theme specific background. It is overwritten whether we have a\n",
       "  specific estimator or a Pipeline/ColumnTransformer */\n",
       "  background-color: var(--sklearn-color-background);\n",
       "}\n",
       "\n",
       "/* Toggleable label */\n",
       "#sk-container-id-4 label.sk-toggleable__label {\n",
       "  cursor: pointer;\n",
       "  display: block;\n",
       "  width: 100%;\n",
       "  margin-bottom: 0;\n",
       "  padding: 0.5em;\n",
       "  box-sizing: border-box;\n",
       "  text-align: center;\n",
       "}\n",
       "\n",
       "#sk-container-id-4 label.sk-toggleable__label-arrow:before {\n",
       "  /* Arrow on the left of the label */\n",
       "  content: \"▸\";\n",
       "  float: left;\n",
       "  margin-right: 0.25em;\n",
       "  color: var(--sklearn-color-icon);\n",
       "}\n",
       "\n",
       "#sk-container-id-4 label.sk-toggleable__label-arrow:hover:before {\n",
       "  color: var(--sklearn-color-text);\n",
       "}\n",
       "\n",
       "/* Toggleable content - dropdown */\n",
       "\n",
       "#sk-container-id-4 div.sk-toggleable__content {\n",
       "  max-height: 0;\n",
       "  max-width: 0;\n",
       "  overflow: hidden;\n",
       "  text-align: left;\n",
       "  /* unfitted */\n",
       "  background-color: var(--sklearn-color-unfitted-level-0);\n",
       "}\n",
       "\n",
       "#sk-container-id-4 div.sk-toggleable__content.fitted {\n",
       "  /* fitted */\n",
       "  background-color: var(--sklearn-color-fitted-level-0);\n",
       "}\n",
       "\n",
       "#sk-container-id-4 div.sk-toggleable__content pre {\n",
       "  margin: 0.2em;\n",
       "  border-radius: 0.25em;\n",
       "  color: var(--sklearn-color-text);\n",
       "  /* unfitted */\n",
       "  background-color: var(--sklearn-color-unfitted-level-0);\n",
       "}\n",
       "\n",
       "#sk-container-id-4 div.sk-toggleable__content.fitted pre {\n",
       "  /* unfitted */\n",
       "  background-color: var(--sklearn-color-fitted-level-0);\n",
       "}\n",
       "\n",
       "#sk-container-id-4 input.sk-toggleable__control:checked~div.sk-toggleable__content {\n",
       "  /* Expand drop-down */\n",
       "  max-height: 200px;\n",
       "  max-width: 100%;\n",
       "  overflow: auto;\n",
       "}\n",
       "\n",
       "#sk-container-id-4 input.sk-toggleable__control:checked~label.sk-toggleable__label-arrow:before {\n",
       "  content: \"▾\";\n",
       "}\n",
       "\n",
       "/* Pipeline/ColumnTransformer-specific style */\n",
       "\n",
       "#sk-container-id-4 div.sk-label input.sk-toggleable__control:checked~label.sk-toggleable__label {\n",
       "  color: var(--sklearn-color-text);\n",
       "  background-color: var(--sklearn-color-unfitted-level-2);\n",
       "}\n",
       "\n",
       "#sk-container-id-4 div.sk-label.fitted input.sk-toggleable__control:checked~label.sk-toggleable__label {\n",
       "  background-color: var(--sklearn-color-fitted-level-2);\n",
       "}\n",
       "\n",
       "/* Estimator-specific style */\n",
       "\n",
       "/* Colorize estimator box */\n",
       "#sk-container-id-4 div.sk-estimator input.sk-toggleable__control:checked~label.sk-toggleable__label {\n",
       "  /* unfitted */\n",
       "  background-color: var(--sklearn-color-unfitted-level-2);\n",
       "}\n",
       "\n",
       "#sk-container-id-4 div.sk-estimator.fitted input.sk-toggleable__control:checked~label.sk-toggleable__label {\n",
       "  /* fitted */\n",
       "  background-color: var(--sklearn-color-fitted-level-2);\n",
       "}\n",
       "\n",
       "#sk-container-id-4 div.sk-label label.sk-toggleable__label,\n",
       "#sk-container-id-4 div.sk-label label {\n",
       "  /* The background is the default theme color */\n",
       "  color: var(--sklearn-color-text-on-default-background);\n",
       "}\n",
       "\n",
       "/* On hover, darken the color of the background */\n",
       "#sk-container-id-4 div.sk-label:hover label.sk-toggleable__label {\n",
       "  color: var(--sklearn-color-text);\n",
       "  background-color: var(--sklearn-color-unfitted-level-2);\n",
       "}\n",
       "\n",
       "/* Label box, darken color on hover, fitted */\n",
       "#sk-container-id-4 div.sk-label.fitted:hover label.sk-toggleable__label.fitted {\n",
       "  color: var(--sklearn-color-text);\n",
       "  background-color: var(--sklearn-color-fitted-level-2);\n",
       "}\n",
       "\n",
       "/* Estimator label */\n",
       "\n",
       "#sk-container-id-4 div.sk-label label {\n",
       "  font-family: monospace;\n",
       "  font-weight: bold;\n",
       "  display: inline-block;\n",
       "  line-height: 1.2em;\n",
       "}\n",
       "\n",
       "#sk-container-id-4 div.sk-label-container {\n",
       "  text-align: center;\n",
       "}\n",
       "\n",
       "/* Estimator-specific */\n",
       "#sk-container-id-4 div.sk-estimator {\n",
       "  font-family: monospace;\n",
       "  border: 1px dotted var(--sklearn-color-border-box);\n",
       "  border-radius: 0.25em;\n",
       "  box-sizing: border-box;\n",
       "  margin-bottom: 0.5em;\n",
       "  /* unfitted */\n",
       "  background-color: var(--sklearn-color-unfitted-level-0);\n",
       "}\n",
       "\n",
       "#sk-container-id-4 div.sk-estimator.fitted {\n",
       "  /* fitted */\n",
       "  background-color: var(--sklearn-color-fitted-level-0);\n",
       "}\n",
       "\n",
       "/* on hover */\n",
       "#sk-container-id-4 div.sk-estimator:hover {\n",
       "  /* unfitted */\n",
       "  background-color: var(--sklearn-color-unfitted-level-2);\n",
       "}\n",
       "\n",
       "#sk-container-id-4 div.sk-estimator.fitted:hover {\n",
       "  /* fitted */\n",
       "  background-color: var(--sklearn-color-fitted-level-2);\n",
       "}\n",
       "\n",
       "/* Specification for estimator info (e.g. \"i\" and \"?\") */\n",
       "\n",
       "/* Common style for \"i\" and \"?\" */\n",
       "\n",
       ".sk-estimator-doc-link,\n",
       "a:link.sk-estimator-doc-link,\n",
       "a:visited.sk-estimator-doc-link {\n",
       "  float: right;\n",
       "  font-size: smaller;\n",
       "  line-height: 1em;\n",
       "  font-family: monospace;\n",
       "  background-color: var(--sklearn-color-background);\n",
       "  border-radius: 1em;\n",
       "  height: 1em;\n",
       "  width: 1em;\n",
       "  text-decoration: none !important;\n",
       "  margin-left: 1ex;\n",
       "  /* unfitted */\n",
       "  border: var(--sklearn-color-unfitted-level-1) 1pt solid;\n",
       "  color: var(--sklearn-color-unfitted-level-1);\n",
       "}\n",
       "\n",
       ".sk-estimator-doc-link.fitted,\n",
       "a:link.sk-estimator-doc-link.fitted,\n",
       "a:visited.sk-estimator-doc-link.fitted {\n",
       "  /* fitted */\n",
       "  border: var(--sklearn-color-fitted-level-1) 1pt solid;\n",
       "  color: var(--sklearn-color-fitted-level-1);\n",
       "}\n",
       "\n",
       "/* On hover */\n",
       "div.sk-estimator:hover .sk-estimator-doc-link:hover,\n",
       ".sk-estimator-doc-link:hover,\n",
       "div.sk-label-container:hover .sk-estimator-doc-link:hover,\n",
       ".sk-estimator-doc-link:hover {\n",
       "  /* unfitted */\n",
       "  background-color: var(--sklearn-color-unfitted-level-3);\n",
       "  color: var(--sklearn-color-background);\n",
       "  text-decoration: none;\n",
       "}\n",
       "\n",
       "div.sk-estimator.fitted:hover .sk-estimator-doc-link.fitted:hover,\n",
       ".sk-estimator-doc-link.fitted:hover,\n",
       "div.sk-label-container:hover .sk-estimator-doc-link.fitted:hover,\n",
       ".sk-estimator-doc-link.fitted:hover {\n",
       "  /* fitted */\n",
       "  background-color: var(--sklearn-color-fitted-level-3);\n",
       "  color: var(--sklearn-color-background);\n",
       "  text-decoration: none;\n",
       "}\n",
       "\n",
       "/* Span, style for the box shown on hovering the info icon */\n",
       ".sk-estimator-doc-link span {\n",
       "  display: none;\n",
       "  z-index: 9999;\n",
       "  position: relative;\n",
       "  font-weight: normal;\n",
       "  right: .2ex;\n",
       "  padding: .5ex;\n",
       "  margin: .5ex;\n",
       "  width: min-content;\n",
       "  min-width: 20ex;\n",
       "  max-width: 50ex;\n",
       "  color: var(--sklearn-color-text);\n",
       "  box-shadow: 2pt 2pt 4pt #999;\n",
       "  /* unfitted */\n",
       "  background: var(--sklearn-color-unfitted-level-0);\n",
       "  border: .5pt solid var(--sklearn-color-unfitted-level-3);\n",
       "}\n",
       "\n",
       ".sk-estimator-doc-link.fitted span {\n",
       "  /* fitted */\n",
       "  background: var(--sklearn-color-fitted-level-0);\n",
       "  border: var(--sklearn-color-fitted-level-3);\n",
       "}\n",
       "\n",
       ".sk-estimator-doc-link:hover span {\n",
       "  display: block;\n",
       "}\n",
       "\n",
       "/* \"?\"-specific style due to the `<a>` HTML tag */\n",
       "\n",
       "#sk-container-id-4 a.estimator_doc_link {\n",
       "  float: right;\n",
       "  font-size: 1rem;\n",
       "  line-height: 1em;\n",
       "  font-family: monospace;\n",
       "  background-color: var(--sklearn-color-background);\n",
       "  border-radius: 1rem;\n",
       "  height: 1rem;\n",
       "  width: 1rem;\n",
       "  text-decoration: none;\n",
       "  /* unfitted */\n",
       "  color: var(--sklearn-color-unfitted-level-1);\n",
       "  border: var(--sklearn-color-unfitted-level-1) 1pt solid;\n",
       "}\n",
       "\n",
       "#sk-container-id-4 a.estimator_doc_link.fitted {\n",
       "  /* fitted */\n",
       "  border: var(--sklearn-color-fitted-level-1) 1pt solid;\n",
       "  color: var(--sklearn-color-fitted-level-1);\n",
       "}\n",
       "\n",
       "/* On hover */\n",
       "#sk-container-id-4 a.estimator_doc_link:hover {\n",
       "  /* unfitted */\n",
       "  background-color: var(--sklearn-color-unfitted-level-3);\n",
       "  color: var(--sklearn-color-background);\n",
       "  text-decoration: none;\n",
       "}\n",
       "\n",
       "#sk-container-id-4 a.estimator_doc_link.fitted:hover {\n",
       "  /* fitted */\n",
       "  background-color: var(--sklearn-color-fitted-level-3);\n",
       "}\n",
       "</style><div id=\"sk-container-id-4\" class=\"sk-top-container\"><div class=\"sk-text-repr-fallback\"><pre>RandomForestClassifier(random_state=42)</pre><b>In a Jupyter environment, please rerun this cell to show the HTML representation or trust the notebook. <br />On GitHub, the HTML representation is unable to render, please try loading this page with nbviewer.org.</b></div><div class=\"sk-container\" hidden><div class=\"sk-item\"><div class=\"sk-estimator fitted sk-toggleable\"><input class=\"sk-toggleable__control sk-hidden--visually\" id=\"sk-estimator-id-4\" type=\"checkbox\" checked><label for=\"sk-estimator-id-4\" class=\"sk-toggleable__label fitted sk-toggleable__label-arrow fitted\">&nbsp;&nbsp;RandomForestClassifier<a class=\"sk-estimator-doc-link fitted\" rel=\"noreferrer\" target=\"_blank\" href=\"https://scikit-learn.org/1.4/modules/generated/sklearn.ensemble.RandomForestClassifier.html\">?<span>Documentation for RandomForestClassifier</span></a><span class=\"sk-estimator-doc-link fitted\">i<span>Fitted</span></span></label><div class=\"sk-toggleable__content fitted\"><pre>RandomForestClassifier(random_state=42)</pre></div> </div></div></div></div>"
      ],
      "text/plain": [
       "RandomForestClassifier(random_state=42)"
      ]
     },
     "execution_count": 64,
     "metadata": {},
     "output_type": "execute_result"
    }
   ],
   "source": [
    "model = RandomForestClassifier(n_estimators=100, random_state=42)\n",
    "model.fit(X_train, y_train)"
   ]
  },
  {
   "cell_type": "code",
   "execution_count": 65,
   "metadata": {},
   "outputs": [],
   "source": [
    "input_size = X_train.shape[1]\n",
    "surrogate_model = Model(input_size)"
   ]
  },
  {
   "cell_type": "code",
   "execution_count": 66,
   "metadata": {},
   "outputs": [],
   "source": [
    "new_target = model.predict(X_scaled)"
   ]
  },
  {
   "cell_type": "code",
   "execution_count": 67,
   "metadata": {},
   "outputs": [],
   "source": [
    "X_train, X_test, y_train, y_test = train_test_split(X, new_target, test_size=0.2, random_state=42)"
   ]
  },
  {
   "cell_type": "code",
   "execution_count": 68,
   "metadata": {},
   "outputs": [],
   "source": [
    "X_train = np.array(X_train, dtype=np.float32)\n",
    "X_test = np.array(X_test, dtype=np.float32)"
   ]
  },
  {
   "cell_type": "code",
   "execution_count": 69,
   "metadata": {},
   "outputs": [],
   "source": [
    "X_tensor = torch.tensor(X_scaled, dtype=torch.float32)\n",
    "y_tensor = torch.tensor(new_target, dtype=torch.float32).view(-1, 1)\n",
    "X_train_tensor = torch.tensor(X_train, dtype=torch.float32)\n",
    "y_train_tensor = torch.tensor(y_train, dtype=torch.float32).view(-1, 1)\n",
    "X_test_tensor = torch.tensor(X_test, dtype=torch.float32)\n",
    "y_test_tensor = torch.tensor(y_test, dtype=torch.float32).view(-1, 1)"
   ]
  },
  {
   "cell_type": "code",
   "execution_count": 70,
   "metadata": {},
   "outputs": [],
   "source": [
    "criterion = nn.BCELoss()\n",
    "optimizer = torch.optim.Adam(surrogate_model.parameters(), lr=0.001)"
   ]
  },
  {
   "cell_type": "code",
   "execution_count": 71,
   "metadata": {},
   "outputs": [
    {
     "name": "stdout",
     "output_type": "stream",
     "text": [
      "Epoch [10/500], Loss: 0.6788796186447144\n",
      "Epoch [20/500], Loss: 0.6462814807891846\n",
      "Epoch [30/500], Loss: 0.6073206067085266\n",
      "Epoch [40/500], Loss: 0.5912814736366272\n",
      "Epoch [50/500], Loss: 0.5814175605773926\n",
      "Epoch [60/500], Loss: 0.5752567648887634\n",
      "Epoch [70/500], Loss: 0.5685024261474609\n",
      "Epoch [80/500], Loss: 0.5618963837623596\n",
      "Epoch [90/500], Loss: 0.5533291101455688\n",
      "Epoch [100/500], Loss: 0.5437347292900085\n",
      "Epoch [110/500], Loss: 0.5336272120475769\n",
      "Epoch [120/500], Loss: 0.522408127784729\n",
      "Epoch [130/500], Loss: 0.5108649730682373\n",
      "Epoch [140/500], Loss: 0.49798160791397095\n",
      "Epoch [150/500], Loss: 0.48400062322616577\n",
      "Epoch [160/500], Loss: 0.46795257925987244\n",
      "Epoch [170/500], Loss: 0.4511812627315521\n",
      "Epoch [180/500], Loss: 0.43289268016815186\n",
      "Epoch [190/500], Loss: 0.412040114402771\n",
      "Epoch [200/500], Loss: 0.38909873366355896\n",
      "Epoch [210/500], Loss: 0.3712584376335144\n",
      "Epoch [220/500], Loss: 0.3555489778518677\n",
      "Epoch [230/500], Loss: 0.3430408537387848\n",
      "Epoch [240/500], Loss: 0.33222696185112\n",
      "Epoch [250/500], Loss: 0.3223946988582611\n",
      "Epoch [260/500], Loss: 0.3144957721233368\n",
      "Epoch [270/500], Loss: 0.3077720105648041\n",
      "Epoch [280/500], Loss: 0.30181780457496643\n",
      "Epoch [290/500], Loss: 0.2965266704559326\n",
      "Epoch [300/500], Loss: 0.2917725741863251\n",
      "Epoch [310/500], Loss: 0.2872689664363861\n",
      "Epoch [320/500], Loss: 0.2832411229610443\n",
      "Epoch [330/500], Loss: 0.2794976234436035\n",
      "Epoch [340/500], Loss: 0.2763477563858032\n",
      "Epoch [350/500], Loss: 0.2722395658493042\n",
      "Epoch [360/500], Loss: 0.2687494456768036\n",
      "Epoch [370/500], Loss: 0.26555848121643066\n",
      "Epoch [380/500], Loss: 0.26335158944129944\n",
      "Epoch [390/500], Loss: 0.2595861256122589\n",
      "Epoch [400/500], Loss: 0.2565113306045532\n",
      "Epoch [410/500], Loss: 0.2537628412246704\n",
      "Epoch [420/500], Loss: 0.25112590193748474\n",
      "Epoch [430/500], Loss: 0.24798668920993805\n",
      "Epoch [440/500], Loss: 0.24529266357421875\n",
      "Epoch [450/500], Loss: 0.24341940879821777\n",
      "Epoch [460/500], Loss: 0.24103961884975433\n",
      "Epoch [470/500], Loss: 0.23841692507266998\n",
      "Epoch [480/500], Loss: 0.23530910909175873\n",
      "Epoch [490/500], Loss: 0.2311548888683319\n",
      "Epoch [500/500], Loss: 0.22816729545593262\n"
     ]
    }
   ],
   "source": [
    "epochs = 500\n",
    "for epoch in range(epochs):\n",
    "    optimizer.zero_grad()\n",
    "    outputs = surrogate_model(X_train_tensor)\n",
    "    loss = criterion(outputs, y_train_tensor)\n",
    "    loss.backward()\n",
    "    optimizer.step()\n",
    "    \n",
    "    if (epoch+1) % 10 == 0:\n",
    "        print(f'Epoch [{epoch+1}/{epochs}], Loss: {loss.item()}')"
   ]
  },
  {
   "cell_type": "code",
   "execution_count": 72,
   "metadata": {},
   "outputs": [
    {
     "name": "stdout",
     "output_type": "stream",
     "text": [
      "Test Accuracy: 0.9180327868852459\n"
     ]
    }
   ],
   "source": [
    "with torch.no_grad():\n",
    "    surrogate_model.eval()\n",
    "    outputs = surrogate_model(X_test_tensor)\n",
    "    predicted = (outputs >= 0.5).float()\n",
    "    accuracy = (predicted == y_test_tensor).sum().item() / y_test.shape[0]\n",
    "    print(f'Test Accuracy: {accuracy}')"
   ]
  },
  {
   "cell_type": "code",
   "execution_count": 73,
   "metadata": {},
   "outputs": [],
   "source": [
    "model_path = 'pytorch_model.pth'\n",
    "torch.save(surrogate_model.state_dict(), model_path)"
   ]
  },
  {
   "cell_type": "code",
   "execution_count": 74,
   "metadata": {},
   "outputs": [],
   "source": [
    "d = DataInterface(dataframe=df, target='target', continuous_features=['age', 'trestbps', 'chol', 'thalach', 'oldpeak'])\n",
    "m = ModelInterface(model_path='/Users/jacobsanderson/Documents/NewCF/pytorch_model.pth', input_size = input_size)"
   ]
  },
  {
   "cell_type": "code",
   "execution_count": 75,
   "metadata": {},
   "outputs": [],
   "source": [
    "query_index = np.random.choice(len(df))\n",
    "query_instance = df.iloc[8].drop('target').to_list()"
   ]
  },
  {
   "cell_type": "code",
   "execution_count": 76,
   "metadata": {},
   "outputs": [
    {
     "name": "stdout",
     "output_type": "stream",
     "text": [
      "Desired class: tensor([0.], grad_fn=<RsubBackward1>)\n",
      "All CFs are classified as the desired class.\n",
      "Final Gradient: tensor(0.6187)\n",
      "Final Loss: tensor(2.0004, grad_fn=<AddBackward0>)\n",
      "Unacceptably high loss. Perturbing relevant features.\n",
      "All CFs are classified as the desired class.\n",
      "Final Gradient: tensor(0.6289)\n",
      "Final Loss: tensor(1.6356, grad_fn=<AddBackward0>)\n",
      "Unacceptably high loss. Perturbing relevant features.\n",
      "All CFs are classified as the desired class.\n",
      "Final Gradient: tensor(0.6170)\n",
      "Final Loss: tensor(1.6724, grad_fn=<AddBackward0>)\n",
      "Unacceptably high loss. Perturbing relevant features.\n",
      "All CFs are classified as the desired class.\n",
      "Final Gradient: tensor(0.6556)\n",
      "Final Loss: tensor(1.6529, grad_fn=<AddBackward0>)\n",
      "Unacceptably high loss. Perturbing relevant features.\n",
      "All CFs are classified as the desired class.\n",
      "Final Gradient: tensor(0.6494)\n",
      "Final Loss: tensor(1.6595, grad_fn=<AddBackward0>)\n",
      "Unacceptably high loss. Perturbing relevant features.\n",
      "All CFs are classified as the desired class.\n",
      "Final Gradient: tensor(0.7042)\n",
      "Final Loss: tensor(1.1859, grad_fn=<AddBackward0>)\n",
      "Unacceptably high loss. Perturbing relevant features.\n",
      "All CFs are classified as the desired class.\n",
      "Final Gradient: tensor(0.6873)\n",
      "Final Loss: tensor(1.1850, grad_fn=<AddBackward0>)\n",
      "Unacceptably high loss. Perturbing relevant features.\n",
      "All CFs are classified as the desired class.\n",
      "Final Gradient: tensor(0.7128)\n",
      "Final Loss: tensor(1.1925, grad_fn=<AddBackward0>)\n",
      "Unacceptably high loss. Perturbing relevant features.\n",
      "All CFs are classified as the desired class.\n",
      "Final Gradient: tensor(0.6381)\n",
      "Final Loss: tensor(0.9273, grad_fn=<AddBackward0>)\n",
      "All CFs are classified as the desired class.\n",
      "Query instance:     age  trestbps   chol  thalach  oldpeak  sex  cp  fbs  restecg  exang  \\\n",
      "0  52.0     172.0  199.0    162.0      0.5    1   2    1        1      0   \n",
      "\n",
      "   slope  ca  thal  outcome  \n",
      "0      2   0     3      1.0  \n",
      "CF instances:          age    trestbps        chol     thalach   oldpeak  sex  cp  fbs  \\\n",
      "0  57.003132  150.013504  125.999992  172.941605  0.200474    1   2    1   \n",
      "1  52.000000  171.996796  199.057999  161.984467  0.499991    1   2    1   \n",
      "2  60.996979  147.992676  202.964294  161.007233  0.000049    1   0    0   \n",
      "3  57.995415  124.998970  299.925934  170.997208  0.000121    1   0    0   \n",
      "4  52.000000  107.995468  233.002640  147.019440  0.101535    1   0    1   \n",
      "\n",
      "   restecg  exang  slope  ca  thal  outcome  \n",
      "0        1      0      2   1     3      0.0  \n",
      "1        1      0      2   2     3      0.0  \n",
      "2        1      0      2   1     3      0.0  \n",
      "3        0      0      2   2     3      0.0  \n",
      "4        1      0      2   3     3      0.0  \n"
     ]
    }
   ],
   "source": [
    "exp = GradientCF(d, m)\n",
    "cf = exp.generate_counterfactuals(query_instance, total_CFs=5, desired_ranges={'trestbps': [100, 200]}, desired_directions={'age': 'increase'}, immutable_features=['sex'])"
   ]
  },
  {
   "cell_type": "code",
   "execution_count": 77,
   "metadata": {},
   "outputs": [],
   "source": [
    "query_instance, cf_instances = cf\n",
    "query_instance = torch.Tensor(query_instance).float()\n",
    "cf_instances = torch.Tensor(cf_instances).float()"
   ]
  },
  {
   "cell_type": "code",
   "execution_count": 78,
   "metadata": {},
   "outputs": [
    {
     "name": "stdout",
     "output_type": "stream",
     "text": [
      "Proximity: tensor(0.2687)\n",
      "Sparsity: tensor(8.6000)\n",
      "Diversity: tensor(0.9124)\n",
      "Plausibility: tensor(14.0489)\n",
      "Confidence: tensor(0.4592, grad_fn=<MeanBackward0>)\n"
     ]
    }
   ],
   "source": [
    "eval = Evaluate(d, m)\n",
    "eval.evaluate(query_instance, cf_instances, X_tensor, k=1)"
   ]
  },
  {
   "cell_type": "markdown",
   "metadata": {},
   "source": [
    "Testing Metrics"
   ]
  },
  {
   "cell_type": "code",
   "execution_count": 161,
   "metadata": {},
   "outputs": [],
   "source": [
    "repeated_query_instance = query_instance.repeat(5, 1)"
   ]
  },
  {
   "cell_type": "code",
   "execution_count": 162,
   "metadata": {},
   "outputs": [],
   "source": [
    "def evaluate_proximity(query_instance, cf_instances):\n",
    "        \"\"\"Evaluates the proximity of the counterfactuals to the query instance.\n",
    "\n",
    "        :param query_instance: Query instance.\n",
    "        :param cf_instances: Counterfactual instances.\n",
    "        :return: Proximity scores.\n",
    "        \"\"\"\n",
    "        proximity_scores = torch.mean(torch.abs(cf_instances - query_instance))\n",
    "        return proximity_scores"
   ]
  },
  {
   "cell_type": "code",
   "execution_count": 163,
   "metadata": {},
   "outputs": [],
   "source": [
    "def compute_sparsity_loss(query_instance, cf_instances, epsilon=torch.sqrt(torch.tensor(torch.finfo(torch.float32).eps))):\n",
    "        \"\"\"\n",
    "        Calculate the number of features changed from the original instance to each counterfactual instance,\n",
    "        ignoring small differences for numerical features, using PyTorch tensors.\n",
    "        \"\"\"\n",
    "        differences = torch.zeros_like(cf_instances, dtype=torch.bool)\n",
    "        differences = torch.abs(cf_instances - query_instance[0]) > epsilon\n",
    "        differences = torch.sum(differences, axis=1)\n",
    "        return torch.mean(differences.float())"
   ]
  },
  {
   "cell_type": "code",
   "execution_count": 164,
   "metadata": {},
   "outputs": [],
   "source": [
    "def compute_plausibility_loss(cf_instances, observed_instances, k=1):\n",
    "        \"\"\"\n",
    "        Calculate the plausibility term.\n",
    "        \"\"\"\n",
    "        diff = torch.abs(cf_instances[:, None, :] - observed_instances[None, :, :])\n",
    "        distances = torch.sum(diff, dim=2)\n",
    "        sorted_distances, _ = torch.sort(distances, dim=1)\n",
    "        nearest_distances = sorted_distances[:, :k]\n",
    "        return torch.mean(nearest_distances)"
   ]
  },
  {
   "cell_type": "code",
   "execution_count": 165,
   "metadata": {},
   "outputs": [],
   "source": [
    "def compute_dist(x1, x2):\n",
    "        return torch.sum((torch.abs(x1 - x2)), dim = 0)\n",
    "\n",
    "def dpp_style(cf_instances):\n",
    "        \"\"\"Computes the DPP of a matrix.\"\"\"\n",
    "        total_CFs = cf_instances.size(0)\n",
    "        det_entries = torch.ones(total_CFs, total_CFs)\n",
    "        for i in range(total_CFs):\n",
    "            for j in range(total_CFs):\n",
    "                det_entries[i, j] = compute_dist(cf_instances[i], cf_instances[j])\n",
    "\n",
    "        det_entries = 1.0 / (1.0 + det_entries)\n",
    "\n",
    "        #det_entries += torch.eye(total_CFs) * 0.0001\n",
    "        return torch.det(det_entries)\n",
    "\n",
    "def evaluate_diversity(cf_instances):\n",
    "        \"\"\"Computes the third part (diversity) of the loss function.\"\"\"\n",
    "        total_CFs = cf_instances.size(0)\n",
    "        if total_CFs == 1:\n",
    "            return torch.tensor(0.0)\n",
    "        else:\n",
    "            return dpp_style(cf_instances)"
   ]
  },
  {
   "cell_type": "code",
   "execution_count": 166,
   "metadata": {},
   "outputs": [
    {
     "data": {
      "text/plain": [
       "tensor(0.)"
      ]
     },
     "execution_count": 166,
     "metadata": {},
     "output_type": "execute_result"
    }
   ],
   "source": [
    "test_prox = evaluate_proximity(query_instance, query_instance)\n",
    "test_prox"
   ]
  },
  {
   "cell_type": "code",
   "execution_count": 167,
   "metadata": {},
   "outputs": [
    {
     "data": {
      "text/plain": [
       "tensor(0.)"
      ]
     },
     "execution_count": 167,
     "metadata": {},
     "output_type": "execute_result"
    }
   ],
   "source": [
    "test_spars = compute_sparsity_loss(query_instance, query_instance)\n",
    "test_spars"
   ]
  },
  {
   "cell_type": "code",
   "execution_count": 168,
   "metadata": {},
   "outputs": [
    {
     "data": {
      "text/plain": [
       "tensor(0.)"
      ]
     },
     "execution_count": 168,
     "metadata": {},
     "output_type": "execute_result"
    }
   ],
   "source": [
    "test_plaus = compute_plausibility_loss(repeated_query_instance, query_instance, k=1)\n",
    "test_plaus"
   ]
  },
  {
   "cell_type": "code",
   "execution_count": 169,
   "metadata": {},
   "outputs": [
    {
     "data": {
      "text/plain": [
       "tensor(0.)"
      ]
     },
     "execution_count": 169,
     "metadata": {},
     "output_type": "execute_result"
    }
   ],
   "source": [
    "test_div = evaluate_diversity(repeated_query_instance)\n",
    "test_div"
   ]
  },
  {
   "cell_type": "code",
   "execution_count": 81,
   "metadata": {},
   "outputs": [],
   "source": [
    "def apply_perturbation(query_instance, feature_indices, perturbation_values):\n",
    "    \"\"\"\n",
    "    Applies perturbations to specified features of the query instance.\n",
    "\n",
    "    :param query_instance: Original query instance (as a tensor or numpy array).\n",
    "    :param feature_indices: List of indices for features to be perturbed.\n",
    "    :param perturbation_values: List of values by which to perturb the features.\n",
    "                                This can be a fixed value or a percentage.\n",
    "    :return: A new instance with perturbations applied.\n",
    "    \"\"\"\n",
    "    perturbed_instance = query_instance.clone()\n",
    "    print(perturbed_instance)\n",
    "    for feature, perturbation in zip(feature_indices, perturbation_values):\n",
    "        perturbed_instance[0][feature] += perturbation\n",
    "    print(perturbed_instance)  \n",
    "    return perturbed_instance"
   ]
  },
  {
   "cell_type": "code",
   "execution_count": 140,
   "metadata": {},
   "outputs": [
    {
     "name": "stdout",
     "output_type": "stream",
     "text": [
      "tensor([[-0.2610,  2.3060, -0.9134,  0.5402, -0.4655,  0.0000,  1.0000,  0.0000,\n",
      "          0.0000,  1.0000,  0.0000,  0.0000,  1.0000,  0.0000,  1.0000,  0.0000,\n",
      "          1.0000,  0.0000,  0.0000,  0.0000,  1.0000,  1.0000,  0.0000,  0.0000,\n",
      "          0.0000,  0.0000,  0.0000,  0.0000,  0.0000,  1.0000]])\n",
      "tensor([[ 0.2390,  2.3060, -0.9134,  0.5402, -0.4655,  0.0000,  1.0000,  0.0000,\n",
      "          0.0000,  1.0000,  0.0000,  0.0000,  1.0000,  0.0000,  1.0000,  0.0000,\n",
      "          1.0000,  0.0000,  0.0000,  0.0000,  1.0000,  1.0000,  0.0000,  0.0000,\n",
      "          0.0000,  0.0000,  0.0000,  0.0000,  0.0000,  1.0000]])\n"
     ]
    }
   ],
   "source": [
    "feature_index = 0  # Index of the feature to perturb\n",
    "perturbation_value = 0.5  # The value to add/subtract from the feature\n",
    "perturbed_instance = apply_perturbation(query_instance, [feature_index], [perturbation_value])"
   ]
  },
  {
   "cell_type": "code",
   "execution_count": 84,
   "metadata": {},
   "outputs": [
    {
     "data": {
      "text/plain": [
       "tensor(0.0167)"
      ]
     },
     "execution_count": 84,
     "metadata": {},
     "output_type": "execute_result"
    }
   ],
   "source": [
    "test_prox = evaluate_proximity(query_instance, perturbed_instance)\n",
    "test_prox"
   ]
  },
  {
   "cell_type": "code",
   "execution_count": 85,
   "metadata": {},
   "outputs": [
    {
     "data": {
      "text/plain": [
       "tensor(1.)"
      ]
     },
     "execution_count": 85,
     "metadata": {},
     "output_type": "execute_result"
    }
   ],
   "source": [
    "test_spars = compute_sparsity_loss(query_instance, perturbed_instance)\n",
    "test_spars"
   ]
  },
  {
   "cell_type": "code",
   "execution_count": 170,
   "metadata": {},
   "outputs": [
    {
     "data": {
      "text/plain": [
       "tensor(0.5000)"
      ]
     },
     "execution_count": 170,
     "metadata": {},
     "output_type": "execute_result"
    }
   ],
   "source": [
    "test_plaus = compute_plausibility_loss(query_instance, perturbed_instance, k=1)\n",
    "test_plaus"
   ]
  },
  {
   "cell_type": "code",
   "execution_count": null,
   "metadata": {},
   "outputs": [],
   "source": []
  }
 ],
 "metadata": {
  "kernelspec": {
   "display_name": "Python 3",
   "language": "python",
   "name": "python3"
  },
  "language_info": {
   "codemirror_mode": {
    "name": "ipython",
    "version": 3
   },
   "file_extension": ".py",
   "mimetype": "text/x-python",
   "name": "python",
   "nbconvert_exporter": "python",
   "pygments_lexer": "ipython3",
   "version": "3.9.6"
  }
 },
 "nbformat": 4,
 "nbformat_minor": 2
}
